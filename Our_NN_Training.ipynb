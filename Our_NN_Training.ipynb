{
 "cells": [
  {
   "cell_type": "markdown",
   "id": "3fe09c7a",
   "metadata": {},
   "source": [
    "# Neural Network Training for Image Classification\n",
    "\n",
    "This notebook contains the neural network training code for the animal image classification task.\n",
    "Make sure you have already downloaded and organized your dataset using the `Own_images_NN.ipynb` notebook."
   ]
  },
  {
   "cell_type": "markdown",
   "id": "f85c3273",
   "metadata": {},
   "source": [
    "**1. Import Libraries**"
   ]
  },
  {
   "cell_type": "code",
   "execution_count": null,
   "id": "7da97708",
   "metadata": {},
   "outputs": [],
   "source": [
    "import torch\n",
    "import torch.nn as nn\n",
    "import torch.nn.functional as F\n",
    "import torch.optim as optim\n",
    "from torchvision import datasets, transforms\n",
    "from torch.utils.data import DataLoader\n",
    "\n",
    "import matplotlib.pyplot as plt\n",
    "import os"
   ]
  },
  {
   "cell_type": "markdown",
   "id": "4dc989c1",
   "metadata": {},
   "source": [
    "**2. Check GPU Availability**"
   ]
  },
  {
   "cell_type": "code",
   "execution_count": null,
   "id": "88718eea",
   "metadata": {},
   "outputs": [],
   "source": [
    "# Check if GPU is available\n",
    "device = torch.device('cuda' if torch.cuda.is_available() else 'cpu')\n",
    "print(f'Using device: {device}')"
   ]
  },
  {
   "cell_type": "markdown",
   "id": "10c16ef2",
   "metadata": {},
   "source": [
    "**3. Load Dataset**\n",
    "\n",
    "Load the train and test datasets from the properly structured folders created by the image download notebook."
   ]
  },
  {
   "cell_type": "code",
   "execution_count": null,
   "id": "8309428d",
   "metadata": {},
   "outputs": [],
   "source": [
    "# Data transformations\n",
    "transform = transforms.Compose([\n",
    "    transforms.Resize((128, 128)),\n",
    "    transforms.ToTensor(),\n",
    "])\n",
    "\n",
    "# Load train and test datasets separately from the split structure\n",
    "train_dataset = datasets.ImageFolder(root='./animals_dataset/train', transform=transform)\n",
    "test_dataset = datasets.ImageFolder(root='./animals_dataset/test', transform=transform)\n",
    "\n",
    "# Create DataLoaders\n",
    "train_loader = DataLoader(train_dataset, batch_size=32, shuffle=True)\n",
    "test_loader = DataLoader(test_dataset, batch_size=32, shuffle=False)\n",
    "\n",
    "print(f\"Train dataset size: {len(train_dataset)}\")\n",
    "print(f\"Test dataset size: {len(test_dataset)}\")\n",
    "print(f\"Classes: {train_dataset.classes}\")\n",
    "print(f\"Number of classes: {len(train_dataset.classes)}\")"
   ]
  },
  {
   "cell_type": "markdown",
   "id": "d32e0385",
   "metadata": {},
   "source": [
    "**4. Display Sample Image**"
   ]
  },
  {
   "cell_type": "code",
   "execution_count": null,
   "id": "89af7d6a",
   "metadata": {},
   "outputs": [],
   "source": [
    "# Display a sample image from the train dataset\n",
    "img_tensor = train_dataset[100]  # Use a smaller index\n",
    "\n",
    "# If it's a tuple like (tensor, label), unpack it:\n",
    "if isinstance(img_tensor, tuple):\n",
    "    img_tensor, label = img_tensor\n",
    "\n",
    "# Convert from (C, H, W) to (H, W, C)\n",
    "img = img_tensor.permute(1, 2, 0).numpy()\n",
    "\n",
    "# Plot\n",
    "plt.imshow(img)\n",
    "plt.axis(\"off\")\n",
    "plt.title(f\"Class: {train_dataset.classes[label]}\")\n",
    "plt.show()"
   ]
  },
  {
   "cell_type": "markdown",
   "id": "e4148be5",
   "metadata": {},
   "source": [
    "**5. Define Neural Network Model**"
   ]
  },
  {
   "cell_type": "code",
   "execution_count": null,
   "id": "37076a6f",
   "metadata": {},
   "outputs": [],
   "source": [
    "class SimpleCNN(nn.Module):\n",
    "    def __init__(self):\n",
    "        super(SimpleCNN, self).__init__()\n",
    "        self.conv1 = nn.Conv2d(in_channels=3, out_channels=32, kernel_size=3)\n",
    "        self.conv2 = nn.Conv2d(in_channels=32, out_channels=64, kernel_size=3)\n",
    "        self.flat = nn.Flatten()\n",
    "        self.fc1 = nn.Linear(in_features=124*124*64, out_features=128)\n",
    "        self.drop = nn.Dropout(0.25)\n",
    "        self.fc2 = nn.Linear(in_features=128, out_features=5)  # 5 classes: cat, dog, rabbit, capybara, owl\n",
    "\n",
    "    def forward(self, x):\n",
    "        x = F.relu(self.conv1(x))\n",
    "        x = F.relu(self.conv2(x))\n",
    "        x = self.flat(x)\n",
    "        x = F.relu(self.fc1(x))\n",
    "        x = self.drop(x)\n",
    "        x = self.fc2(x)\n",
    "        return x\n",
    "\n",
    "model = SimpleCNN().to(device)\n",
    "model"
   ]
  },
  {
   "cell_type": "markdown",
   "id": "7ec86707",
   "metadata": {},
   "source": [
    "**6. Define Loss Function & Optimizer**"
   ]
  },
  {
   "cell_type": "code",
   "execution_count": null,
   "id": "765ab32a",
   "metadata": {},
   "outputs": [],
   "source": [
    "criterion = nn.CrossEntropyLoss()\n",
    "optimizer = optim.SGD(model.parameters(), lr=0.02)"
   ]
  },
  {
   "cell_type": "markdown",
   "id": "e2c88979",
   "metadata": {},
   "source": [
    "**7. Training Loop**"
   ]
  },
  {
   "cell_type": "code",
   "execution_count": null,
   "id": "5f3b8570",
   "metadata": {},
   "outputs": [],
   "source": [
    "for epoch in range(5):  # Train for 5 epochs\n",
    "    running_loss = 0.0\n",
    "    for images, labels in train_loader:\n",
    "        # Move images and labels to the device\n",
    "        images = images.to(device)\n",
    "        labels = labels.to(device)\n",
    "\n",
    "        # Zero the parameter gradients\n",
    "        optimizer.zero_grad()\n",
    "\n",
    "        # Forward pass\n",
    "        outputs = model(images)\n",
    "        loss = criterion(outputs, labels)\n",
    "\n",
    "        # Backward pass and optimize\n",
    "        loss.backward()\n",
    "        optimizer.step()\n",
    "\n",
    "        running_loss += loss.item()\n",
    "\n",
    "    print(f'Epoch [{epoch+1}/5], Loss: {running_loss / len(train_loader):.4f}')"
   ]
  },
  {
   "cell_type": "markdown",
   "id": "e35b5b72",
   "metadata": {},
   "source": [
    "**8. Evaluation on Test Set**"
   ]
  },
  {
   "cell_type": "code",
   "execution_count": null,
   "id": "8ac74ee8",
   "metadata": {},
   "outputs": [],
   "source": [
    "correct = 0\n",
    "total = 0\n",
    "with torch.no_grad():  # Disable gradient calculation for evaluation\n",
    "    for images, labels in test_loader:\n",
    "        # Move images and labels to the device\n",
    "        images = images.to(device)\n",
    "        labels = labels.to(device)\n",
    "\n",
    "        outputs = model(images)\n",
    "        _, predicted = torch.max(outputs, 1)\n",
    "        total += labels.size(0)\n",
    "        correct += (predicted == labels).sum().item()\n",
    "\n",
    "print(f'Accuracy: {100 * correct / total:.2f}%')"
   ]
  },
  {
   "cell_type": "markdown",
   "id": "f4558d11",
   "metadata": {},
   "source": [
    "**9. Visualize Predictions**"
   ]
  },
  {
   "cell_type": "code",
   "execution_count": null,
   "id": "5dab9f27",
   "metadata": {},
   "outputs": [],
   "source": [
    "# Get one batch from test_loader\n",
    "images, labels = next(iter(test_loader))\n",
    "\n",
    "# Move to device\n",
    "images = images.to(device)\n",
    "labels = labels.to(device)\n",
    "\n",
    "# Get predictions\n",
    "outputs = model(images)\n",
    "_, predicted = torch.max(outputs, 1)\n",
    "\n",
    "# Pick the nth image in the batch\n",
    "n=11 # n=4,5 top\n",
    "img = images[n].cpu().permute(1, 2, 0).numpy()  # (C,H,W) -> (H,W,C)\n",
    "true_label = train_dataset.classes[labels[n].item()]\n",
    "pred_label = train_dataset.classes[predicted[n].item()]\n",
    "\n",
    "# Show the image\n",
    "plt.imshow(img)\n",
    "plt.axis(\"off\")\n",
    "plt.title(f\"True: {true_label} | Pred: {pred_label}\")\n",
    "plt.show()"
   ]
  }
 ],
 "metadata": {
  "language_info": {
   "name": "python"
  }
 },
 "nbformat": 4,
 "nbformat_minor": 5
}
